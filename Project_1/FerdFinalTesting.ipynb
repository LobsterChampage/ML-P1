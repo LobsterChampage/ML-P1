{
 "cells": [
  {
   "cell_type": "code",
   "execution_count": 70,
   "id": "76c84c4a",
   "metadata": {
    "scrolled": true
   },
   "outputs": [
    {
     "name": "stdout",
     "output_type": "stream",
     "text": [
      "[[0.0848614]]\n",
      "[[0.12137072]]\n",
      "[[0.0848617]]\n"
     ]
    },
    {
     "ename": "ValueError",
     "evalue": "not enough values to unpack (expected 3, got 2)",
     "output_type": "error",
     "traceback": [
      "\u001b[1;31m---------------------------------------------------------------------------\u001b[0m",
      "\u001b[1;31mValueError\u001b[0m                                Traceback (most recent call last)",
      "\u001b[1;32m~\\AppData\\Local\\Temp/ipykernel_39468/1511108539.py\u001b[0m in \u001b[0;36m<module>\u001b[1;34m\u001b[0m\n\u001b[0;32m     29\u001b[0m \u001b[1;33m\u001b[0m\u001b[0m\n\u001b[0;32m     30\u001b[0m \u001b[1;34m\"\"\"Stochastic gradient descent prediction. Decided to use similar gamma as in gradient descent\"\"\"\u001b[0m\u001b[1;33m\u001b[0m\u001b[1;33m\u001b[0m\u001b[0m\n\u001b[1;32m---> 31\u001b[1;33m \u001b[0mw_SGD\u001b[0m\u001b[1;33m,\u001b[0m \u001b[0mmse\u001b[0m\u001b[1;33m,\u001b[0m \u001b[0mlog_loss\u001b[0m \u001b[1;33m=\u001b[0m \u001b[0mleast_squares_SGD\u001b[0m\u001b[1;33m(\u001b[0m\u001b[0mnp\u001b[0m\u001b[1;33m.\u001b[0m\u001b[0msqueeze\u001b[0m\u001b[1;33m(\u001b[0m\u001b[0mnp\u001b[0m\u001b[1;33m.\u001b[0m\u001b[0masarray\u001b[0m\u001b[1;33m(\u001b[0m\u001b[0my\u001b[0m\u001b[1;33m)\u001b[0m\u001b[1;33m)\u001b[0m\u001b[1;33m,\u001b[0m \u001b[0mtx\u001b[0m\u001b[1;33m,\u001b[0m \u001b[0mnp\u001b[0m\u001b[1;33m.\u001b[0m\u001b[0msqueeze\u001b[0m\u001b[1;33m(\u001b[0m\u001b[0mnp\u001b[0m\u001b[1;33m.\u001b[0m\u001b[0masarray\u001b[0m\u001b[1;33m(\u001b[0m\u001b[0mw_init\u001b[0m\u001b[1;33m)\u001b[0m\u001b[1;33m)\u001b[0m\u001b[1;33m,\u001b[0m \u001b[1;36m500\u001b[0m\u001b[1;33m,\u001b[0m \u001b[1;36m5.994842503189421e-10\u001b[0m\u001b[1;33m)\u001b[0m\u001b[1;33m\u001b[0m\u001b[1;33m\u001b[0m\u001b[0m\n\u001b[0m\u001b[0;32m     32\u001b[0m \u001b[0mgeneretate_csv_prediction\u001b[0m\u001b[1;33m(\u001b[0m\u001b[0midsTest\u001b[0m\u001b[1;33m,\u001b[0m \u001b[0mw_SGD\u001b[0m\u001b[1;33m,\u001b[0m \u001b[0mtxTest\u001b[0m\u001b[1;33m,\u001b[0m \u001b[1;34m\"testSub_Stochastic_Gradient_Descent.csv\"\u001b[0m\u001b[1;33m)\u001b[0m\u001b[1;33m\u001b[0m\u001b[1;33m\u001b[0m\u001b[0m\n\u001b[0;32m     33\u001b[0m \u001b[0mprint\u001b[0m\u001b[1;33m(\u001b[0m\u001b[0mmse\u001b[0m\u001b[1;33m)\u001b[0m\u001b[1;33m\u001b[0m\u001b[1;33m\u001b[0m\u001b[0m\n",
      "\u001b[1;31mValueError\u001b[0m: not enough values to unpack (expected 3, got 2)"
     ]
    }
   ],
   "source": [
    "import numpy as np\n",
    "from implementations import *\n",
    "from helpers import *\n",
    "from Additional_Functions import compute_mse\n",
    "\n",
    "#code here\n",
    "y, txTemp, txTestTemp, idsTest = load_data()\n",
    "\n",
    "tx = build_poly(txTemp,1)\n",
    "txTest = build_poly(txTestTemp,1)\n",
    "\n",
    "#remember to output prediction\n",
    "\"\"\"Least squares prediction:\"\"\"\n",
    "w_ls, mse = least_squares(y, tx)\n",
    "generetate_csv_prediction(idsTest, w_ls, txTest, \"testSub_least_squares.csv\")\n",
    "print(mse)\n",
    "\n",
    "w_init = np.zeros(w_ls.shape)\n",
    "\n",
    "\"\"\"Gradien descent prediction. Got gamma with the help of cross validation, see additional functions\"\"\"\n",
    "w_GD, mse = least_squares_GD(y, tx, w_init, 10, 2.395026619987486e-07)\n",
    "generetate_csv_prediction(idsTest, w_GD, txTest, \"testSub_Gradient_Descent.csv\")\n",
    "print(mse)\n",
    "\n",
    "\"\"\"Ridge regresion prediction, lambda decided in same way as gamma above\"\"\"\n",
    "w_RR, mse = ridge_regression(y, tx, 3.290344562312671e-06)\n",
    "generetate_csv_prediction(idsTest, w_RR, txTest, \"testSub_Ridge_Regression.csv\")\n",
    "print(mse)\n",
    "\n",
    "\"\"\"Stochastic gradient descent prediction. Decided to use similar gamma as in gradient descent\"\"\"\n",
    "w_SGD, mse, log_loss = least_squares_SGD(np.squeeze(np.asarray(y)), tx, np.squeeze(np.asarray(w_init)), 500, 5.994842503189421e-10)\n",
    "generetate_csv_prediction(idsTest, w_SGD, txTest, \"testSub_Stochastic_Gradient_Descent.csv\")\n",
    "print(mse)\n",
    "print(log_loss)\n",
    "print(\"---\")\n",
    "\n",
    "\"\"\"Logistic regression prediction. Got gamma with the help of cross validation, see additional functions\"\"\"\n",
    "w_LR, log_loss = logistic_regression(y, tx, w_init, 10, 1e-15)\n",
    "mse = compute_mse(y, tx, w_LR)\n",
    "generetate_csv_prediction(idsTest, w_LR, txTest, \"testSub_Logistic_Regression.csv\")\n",
    "print(mse)\n",
    "print(log_loss)\n",
    "\n",
    "\"\"\"Regularized logistic regression prediction. Got lambda from cross validation and used same gamma as in logistic regression\"\"\"\n",
    "w_RLR, log_loss = reg_logistic_regression(y, tx, 1e5, w_init, 10, 1e-15)\n",
    "mse = compute_mse(y, tx, w_RLR)\n",
    "generetate_csv_prediction(idsTest, w_RLR, txTest, \"testSub_Regularized_Logistic_Regression.csv\")\n",
    "print(mse)\n",
    "print(log_loss)\n",
    "\n",
    "\"\"\"The best test result we got\"\"\"\n",
    "tx1 = build_poly(txTemp,5)\n",
    "txTest1 = build_poly(txTestTemp,5)\n",
    "w_Best, mse = ridge_regression(y, tx1, 0.11)\n",
    "generetate_csv_prediction(idsTest, w_Best, txTest1, \"testSub_Best.csv\")\n",
    "print(mse)"
   ]
  },
  {
   "cell_type": "code",
   "execution_count": 106,
   "id": "fa4482fb",
   "metadata": {},
   "outputs": [
    {
     "name": "stderr",
     "output_type": "stream",
     "text": [
      "C:\\Users\\Ferdi\\AppData\\Local\\Temp/ipykernel_39468/1307350728.py:51: RuntimeWarning: invalid value encountered in sqrt\n",
      "  loss_tr = np.sqrt(2 * compute_mse(train_y, train_x , weights))\n",
      "C:\\Users\\Ferdi\\AppData\\Local\\Temp/ipykernel_39468/1307350728.py:52: RuntimeWarning: invalid value encountered in sqrt\n",
      "  loss_te = np.sqrt(2 * compute_mse(test_y, test_x , weights))\n"
     ]
    },
    {
     "name": "stdout",
     "output_type": "stream",
     "text": [
      "0\n",
      "100000000000000000\n"
     ]
    },
    {
     "data": {
      "image/png": "[encoded data removed]",
      "text/plain": [
       "<Figure size 432x288 with 1 Axes>"
      ]
     },
     "metadata": {
      "needs_background": "light"
     },
     "output_type": "display_data"
    }
   ],
   "source": [
    "def calculate_log_loss(y, tx, w):\n",
    "    \"\"\"compute the loss: negative log likelihood.\"\"\"\n",
    "    txw = (tx @ w)\n",
    "    yxw = y * txw\n",
    "    return (np.log(1 + np.exp(txw)) - yxw).sum()\n",
    "\n",
    "def cross_validation_visualization(lambds, mse_tr, mse_te,name,degree):\n",
    "    \"\"\"visualization the curves of mse_tr and mse_te.\"\"\"\n",
    "    plt.semilogx    (lambds, mse_tr, marker=\".\", color='b', label='train error')\n",
    "    plt.semilogx(lambds, mse_te, marker=\".\", color='r', label='test error')\n",
    "    plt.xlabel(\"lambda^%s\"%degree)\n",
    "    plt.ylabel(\"rmse\")\n",
    "  \n",
    "    plt.title(\"cross validation \"+name)\n",
    "    plt.legend(loc=2)\n",
    "    plt.grid(True)\n",
    "    plt.savefig(\"CD_\"+name)\n",
    "\n",
    "def cross_validation(y, tx, degree):\n",
    "    #w_init, mse = least_squares(y, tx)\n",
    "    w_init = np.zeros((tx.shape[1],1))\n",
    "    #gradient descent -15 to -6.5 gives good overview gamma = 3.727593720314938e-07 with degree 5\n",
    "    #logistic gradeint diverges after around -14 graph until 13.8 gives good overview -14 good with rmse\n",
    "    lambdas = np.logspace(-9, -8.7, 3)\n",
    "    rmse_te = []\n",
    "    rmse_tr = []\n",
    "    min_loss1 = 100000000000000000\n",
    "    min_lambda = 0\n",
    "    for lambda_ in lambdas:\n",
    "        k_indices = build_k_indices(y,4,1)\n",
    "        tr = []\n",
    "        te = []\n",
    "        \n",
    "        for k in range(len(k_indices)):\n",
    "\n",
    "            #make a mask to extract all test data\n",
    "            mask = np.zeros(tx.shape[0], dtype=bool)\n",
    "            mask[k_indices[k]] = True\n",
    "\n",
    "            test_x = tx[mask,...]\n",
    "            test_y = y[mask]\n",
    "        \n",
    "            amask = np.invert(mask)\n",
    "            train_x = tx[amask,...]\n",
    "            train_y = y[amask]\n",
    "            \n",
    "            weights, loss, loss2 = least_squares_SGD(y, tx, w_init, 100, lambda_)\n",
    "\n",
    "            # calculate the loss for train and test data:\n",
    "            \"\"\"rmse loss\"\"\"\n",
    "            loss_tr = np.sqrt(2 * compute_mse(train_y, train_x , weights))\n",
    "            loss_te = np.sqrt(2 * compute_mse(test_y, test_x , weights))\n",
    "        \n",
    "            \"\"\"logistic loss\"\"\"\n",
    "            \n",
    "            #loss_tr = calculate_log_loss(train_y, train_x, weights)\n",
    "            #loss_te = calculate_log_loss(test_y, test_x, weights)\n",
    "            \"\"\"predictive loss\"\"\"\n",
    "            #e = train_y - predict_labels(weights,train_x)\n",
    "            #loss_tr = np.sqrt(1/len(e)*e.T @ e)\n",
    "            #e = test_y - predict_labels(weights,test_x)\n",
    "            #loss_te = np.sqrt(1/len(e)*e.T @ e)\n",
    "            tr.append(loss_tr)\n",
    "            te.append(loss_te)\n",
    "\n",
    "        rmse_tr.append(np.array(tr).mean())\n",
    "        rmse_te.append(np.array(te).mean())\n",
    "        \n",
    "        \n",
    "        if(rmse_te[-1]<min_loss1):\n",
    "            min_lambda = lambda_\n",
    "            min_loss1 = rmse_te[-1]\n",
    "        \n",
    "            \n",
    "    degreeStr = str(1)\n",
    "    cross_validation_visualization(lambdas, rmse_tr, rmse_te, 'GD test degree = %s' % degree, degreeStr)\n",
    "    print(min_lambda)\n",
    "    print(min_loss1)\n",
    "    \n",
    "cross_validation(y, tx, 1)\n",
    "#."
   ]
  },
  {
   "cell_type": "code",
   "execution_count": 72,
   "id": "65cb200e",
   "metadata": {},
   "outputs": [],
   "source": [
    "def least_squares_SGD(y, tx, initial_w, max_iters, gamma):\n",
    "    w = initial_w\n",
    "\n",
    "    for i in range(max_iters):\n",
    "\n",
    "        #setup for computing gradient\n",
    "        gradient = np.empty(tx.shape[1])\n",
    "\n",
    "        #Using 1 as batch size\n",
    "        for minibatch_y, minibatch_tx in batch_iter(y, tx, 1):\n",
    "            \"\"\"Compute a gradient from just few examples n and their corresponding y_n labels.\"\"\"\n",
    "            #using derivative of mse\n",
    "            eff = (w * minibatch_tx).sum(axis=1)\n",
    "            e = minibatch_y - eff\n",
    "            \n",
    "            #make vector of e vector times sequenced columns of tx (because of the different derivatives sequence one tx each)\n",
    "            for j in range(minibatch_tx.shape[1]):\n",
    "                gradient[j] = (-(e * minibatch_tx[:,j]) * (1/(minibatch_tx.shape[0]))).sum()\n",
    "\n",
    "            #update weight by gradient\n",
    "            w = w - gamma * gradient\n",
    "    log_loss = (np.log(1 + np.exp(tx @ w)) - y*(tx @ w)).sum()\n",
    "    mse = compute_mse(y, tx, w)\n",
    "\n",
    "    return w, mse, log_loss"
   ]
  },
  {
   "cell_type": "code",
   "execution_count": 85,
   "id": "f61fd5d3",
   "metadata": {
    "scrolled": true
   },
   "outputs": [
    {
     "name": "stdout",
     "output_type": "stream",
     "text": [
      "0.17802939989636413\n",
      "166035.25527634544\n",
      "---\n"
     ]
    }
   ],
   "source": [
    "\"\"\"Stochastic gradient descent prediction. Decided to use similar gamma as in gradient descent\"\"\"\n",
    "w_SGD, mse, log_loss = least_squares_SGD(np.squeeze(np.asarray(y)), tx, np.squeeze(np.asarray(w_init)), 500, 2.005026619987486e-07)\n",
    "generetate_csv_prediction(idsTest, w_SGD, txTest, \"testSub_Stochastic_Gradient_Descent.csv\")\n",
    "print(mse)\n",
    "print(log_loss)\n",
    "print(\"---\")"
   ]
  },
  {
   "cell_type": "code",
   "execution_count": 110,
   "id": "bde4e17b",
   "metadata": {},
   "outputs": [
    {
     "name": "stdout",
     "output_type": "stream",
     "text": [
      "0.11377155495926186\n",
      "177397.77392646036\n",
      "---\n"
     ]
    }
   ],
   "source": [
    "\"\"\"Stochastic gradient descent prediction. Decided to use similar gamma as in gradient descent\"\"\"\n",
    "w_SGD, mse, log_loss = least_squares_SGD(np.squeeze(np.asarray(y)), tx, np.squeeze(np.asarray(w_init)), 1000, 1.5e-08)\n",
    "generetate_csv_prediction(idsTest, w_SGD, txTest, \"testSub_Stochastic_Gradient_Descent.csv\")\n",
    "print(mse)\n",
    "print(log_loss)\n",
    "print(\"---\")"
   ]
  },
  {
   "cell_type": "code",
   "execution_count": 113,
   "id": "33385ec7",
   "metadata": {},
   "outputs": [
    {
     "name": "stdout",
     "output_type": "stream",
     "text": [
      "0.11671748388094622\n",
      "194759.99511429627\n"
     ]
    }
   ],
   "source": [
    "\"\"\"Stochastic gradient descent prediction. Decided to use similar gamma as in gradient descent\"\"\"\n",
    "w_SGD, mse, log_loss = least_squares_SGD(np.squeeze(np.asarray(y)), tx, np.squeeze(np.asarray(w_init)), 800, 2.11e-08)\n",
    "generetate_csv_prediction(idsTest, w_SGD, txTest, \"testSub_Stochastic_Gradient_Descent.csv\")\n",
    "print(mse)\n",
    "print(log_loss)\n",
    "#171101"
   ]
  },
  {
   "cell_type": "code",
   "execution_count": 26,
   "id": "a29541ec",
   "metadata": {},
   "outputs": [],
   "source": [
    "import numpy as np\n",
    "from implementations import *\n",
    "from helpers import *\n",
    "from Additional_Functions import compute_mse\n",
    "\n",
    "#code here\n",
    "y, txTemp, txTestTemp, idsTest = load_data()\n",
    "\n",
    "tx = build_poly(txTemp,1)\n",
    "txTest = build_poly(txTestTemp,1)"
   ]
  },
  {
   "cell_type": "code",
   "execution_count": 27,
   "id": "4e9a5e8c",
   "metadata": {},
   "outputs": [
    {
     "name": "stdout",
     "output_type": "stream",
     "text": [
      "[[0.0848614]]\n"
     ]
    }
   ],
   "source": [
    "#remember to output prediction\n",
    "\"\"\"Least squares prediction:\"\"\"\n",
    "w_ls, mse = least_squares(y, tx)\n",
    "generetate_csv_prediction(idsTest, w_ls, txTest, \"testSub_least_squares.csv\")\n",
    "print(mse)"
   ]
  },
  {
   "cell_type": "code",
   "execution_count": 28,
   "id": "f84fa26d",
   "metadata": {},
   "outputs": [],
   "source": [
    "w_init = np.zeros(w_ls.shape)"
   ]
  },
  {
   "cell_type": "code",
   "execution_count": 29,
   "id": "86d5530d",
   "metadata": {},
   "outputs": [
    {
     "name": "stdout",
     "output_type": "stream",
     "text": [
      "[[0.10964683]]\n"
     ]
    }
   ],
   "source": [
    "\"\"\"Gradien descent prediction. Got gamma with the help of cross validation, see additional functions\"\"\"\n",
    "w_GD, mse = least_squares_GD(y, tx, w_init, 25, 2.395026619987486e-07)\n",
    "generetate_csv_prediction(idsTest, w_GD, txTest, \"testSub_Gradient_Descent.csv\")\n",
    "print(mse)"
   ]
  },
  {
   "cell_type": "code",
   "execution_count": 30,
   "id": "f6575ebf",
   "metadata": {
    "scrolled": true
   },
   "outputs": [
    {
     "name": "stdout",
     "output_type": "stream",
     "text": [
      "[[0.0848617]]\n"
     ]
    }
   ],
   "source": [
    "\"\"\"Ridge regresion prediction, lambda decided in same way as gamma above\"\"\"\n",
    "w_RR, mse = ridge_regression(y, tx, 3.290344562312671e-06)\n",
    "generetate_csv_prediction(idsTest, w_RR, txTest, \"testSub_Ridge_Regression.csv\")\n",
    "print(mse)"
   ]
  },
  {
   "cell_type": "code",
   "execution_count": 31,
   "id": "e92438d3",
   "metadata": {},
   "outputs": [
    {
     "name": "stdout",
     "output_type": "stream",
     "text": [
      "2.0063169703503623\n"
     ]
    }
   ],
   "source": [
    "\"\"\"Stochastic gradient descent prediction. Decided to use similar gamma as in gradient descent\"\"\"\n",
    "w_SGD, mse = least_squares_SGD(np.squeeze(np.asarray(y)), tx, np.squeeze(np.asarray(w_init)), 25, 2.395026619987486e-07)\n",
    "generetate_csv_prediction(idsTest, w_SGD, txTest, \"testSub_Stochastic_Gradient_Descent.csv\")\n",
    "print(mse)"
   ]
  },
  {
   "cell_type": "code",
   "execution_count": 32,
   "id": "353f9e31",
   "metadata": {},
   "outputs": [
    {
     "name": "stdout",
     "output_type": "stream",
     "text": [
      "[[0.17279901]]\n",
      "173012.8326703143\n"
     ]
    }
   ],
   "source": [
    "\"\"\"Logistic regression prediction. Got gamma with the help of cross validation, see additional functions\"\"\"\n",
    "w_LR, log_loss = logistic_regression(y, tx, w_init, 25, 1e-15)\n",
    "mse = compute_mse(y, tx, w_LR)\n",
    "generetate_csv_prediction(idsTest, w_LR, txTest, \"testSub_Logistic_Regression.csv\")\n",
    "print(mse)\n",
    "print(log_loss)"
   ]
  },
  {
   "cell_type": "code",
   "execution_count": 33,
   "id": "970c6337",
   "metadata": {},
   "outputs": [
    {
     "name": "stdout",
     "output_type": "stream",
     "text": [
      "[[0.17279901]]\n",
      "173013.22204008835\n"
     ]
    }
   ],
   "source": [
    "\"\"\"Regularized logistic regression prediction. Got lambda from cross validation and used same gamma as in logistic regression\"\"\"\n",
    "w_RLR, log_loss = reg_logistic_regression(y, tx, 1e5, w_init, 25, 1e-15)\n",
    "mse = compute_mse(y, tx, w_RLR)\n",
    "generetate_csv_prediction(idsTest, w_RLR, txTest, \"testSub_Regularized_Logistic_Regression.csv\")\n",
    "print(mse)\n",
    "print(log_loss)"
   ]
  },
  {
   "cell_type": "code",
   "execution_count": 34,
   "id": "da47632a",
   "metadata": {},
   "outputs": [
    {
     "name": "stdout",
     "output_type": "stream",
     "text": [
      "[[0.07881887]]\n"
     ]
    }
   ],
   "source": [
    "\"\"\"The best test result we got\"\"\"\n",
    "tx1 = build_poly(txTemp,5)\n",
    "txTest1 = build_poly(txTestTemp,5)\n",
    "w_Best, mse = ridge_regression(y, tx1, 0.11)\n",
    "generetate_csv_prediction(idsTest, w_Best, txTest1, \"testSub_Best.csv\")\n",
    "print(mse)"
   ]
  }
 ],
 "metadata": {
  "kernelspec": {
   "display_name": "Python 3 (ipykernel)",
   "language": "python",
   "name": "python3"
  },
  "language_info": {
   "codemirror_mode": {
    "name": "ipython",
    "version": 3
   },
   "file_extension": ".py",
   "mimetype": "text/x-python",
   "name": "python",
   "nbconvert_exporter": "python",
   "pygments_lexer": "ipython3",
   "version": "3.8.12"
  }
 },
 "nbformat": 4,
 "nbformat_minor": 5
}

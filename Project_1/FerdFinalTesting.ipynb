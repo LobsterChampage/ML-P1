{
 "cells": [
  {
   "cell_type": "code",
   "execution_count": 26,
   "id": "a29541ec",
   "metadata": {},
   "outputs": [],
   "source": [
    "import numpy as np\n",
    "from implementations import *\n",
    "from helpers import *\n",
    "from Additional_Functions import compute_mse\n",
    "\n",
    "#code here\n",
    "y, txTemp, txTestTemp, idsTest = load_data()\n",
    "\n",
    "tx = build_poly(txTemp,1)\n",
    "txTest = build_poly(txTestTemp,1)"
   ]
  },
  {
   "cell_type": "code",
   "execution_count": 27,
   "id": "4e9a5e8c",
   "metadata": {},
   "outputs": [
    {
     "name": "stdout",
     "output_type": "stream",
     "text": [
      "[[0.0848614]]\n"
     ]
    }
   ],
   "source": [
    "#remember to output prediction\n",
    "\"\"\"Least squares prediction:\"\"\"\n",
    "w_ls, mse = least_squares(y, tx)\n",
    "generetate_csv_prediction(idsTest, w_ls, txTest, \"testSub_least_squares.csv\")\n",
    "print(mse)"
   ]
  },
  {
   "cell_type": "code",
   "execution_count": 28,
   "id": "f84fa26d",
   "metadata": {},
   "outputs": [],
   "source": [
    "w_init = np.zeros(w_ls.shape)"
   ]
  },
  {
   "cell_type": "code",
   "execution_count": 29,
   "id": "86d5530d",
   "metadata": {},
   "outputs": [
    {
     "name": "stdout",
     "output_type": "stream",
     "text": [
      "[[0.10964683]]\n"
     ]
    }
   ],
   "source": [
    "\"\"\"Gradien descent prediction. Got gamma with the help of cross validation, see additional functions\"\"\"\n",
    "w_GD, mse = least_squares_GD(y, tx, w_init, 25, 2.395026619987486e-07)\n",
    "generetate_csv_prediction(idsTest, w_GD, txTest, \"testSub_Gradient_Descent.csv\")\n",
    "print(mse)"
   ]
  },
  {
   "cell_type": "code",
   "execution_count": 30,
   "id": "f6575ebf",
   "metadata": {
    "scrolled": true
   },
   "outputs": [
    {
     "name": "stdout",
     "output_type": "stream",
     "text": [
      "[[0.0848617]]\n"
     ]
    }
   ],
   "source": [
    "\"\"\"Ridge regresion prediction, lambda decided in same way as gamma above\"\"\"\n",
    "w_RR, mse = ridge_regression(y, tx, 3.290344562312671e-06)\n",
    "generetate_csv_prediction(idsTest, w_RR, txTest, \"testSub_Ridge_Regression.csv\")\n",
    "print(mse)"
   ]
  },
  {
   "cell_type": "code",
   "execution_count": 31,
   "id": "e92438d3",
   "metadata": {},
   "outputs": [
    {
     "name": "stdout",
     "output_type": "stream",
     "text": [
      "2.0063169703503623\n"
     ]
    }
   ],
   "source": [
    "\"\"\"Stochastic gradient descent prediction. Decided to use similar gamma as in gradient descent\"\"\"\n",
    "w_SGD, mse = least_squares_SGD(np.squeeze(np.asarray(y)), tx, np.squeeze(np.asarray(w_init)), 25, 2.395026619987486e-07)\n",
    "generetate_csv_prediction(idsTest, w_SGD, txTest, \"testSub_Stochastic_Gradient_Descent.csv\")\n",
    "print(mse)"
   ]
  },
  {
   "cell_type": "code",
   "execution_count": 32,
   "id": "353f9e31",
   "metadata": {},
   "outputs": [
    {
     "name": "stdout",
     "output_type": "stream",
     "text": [
      "[[0.17279901]]\n",
      "173012.8326703143\n"
     ]
    }
   ],
   "source": [
    "\"\"\"Logistic regression prediction. Got gamma with the help of cross validation, see additional functions\"\"\"\n",
    "w_LR, log_loss = logistic_regression(y, tx, w_init, 25, 1e-15)\n",
    "mse = compute_mse(y, tx, w_LR)\n",
    "generetate_csv_prediction(idsTest, w_LR, txTest, \"testSub_Logistic_Regression.csv\")\n",
    "print(mse)\n",
    "print(log_loss)"
   ]
  },
  {
   "cell_type": "code",
   "execution_count": 33,
   "id": "970c6337",
   "metadata": {},
   "outputs": [
    {
     "name": "stdout",
     "output_type": "stream",
     "text": [
      "[[0.17279901]]\n",
      "173013.22204008835\n"
     ]
    }
   ],
   "source": [
    "\"\"\"Regularized logistic regression prediction. Got lambda from cross validation and used same gamma as in logistic regression\"\"\"\n",
    "w_RLR, log_loss = reg_logistic_regression(y, tx, 1e5, w_init, 25, 1e-15)\n",
    "mse = compute_mse(y, tx, w_RLR)\n",
    "generetate_csv_prediction(idsTest, w_RLR, txTest, \"testSub_Regularized_Logistic_Regression.csv\")\n",
    "print(mse)\n",
    "print(log_loss)"
   ]
  },
  {
   "cell_type": "code",
   "execution_count": 34,
   "id": "da47632a",
   "metadata": {},
   "outputs": [
    {
     "name": "stdout",
     "output_type": "stream",
     "text": [
      "[[0.07881887]]\n"
     ]
    }
   ],
   "source": [
    "\"\"\"The best test result we got\"\"\"\n",
    "tx1 = build_poly(txTemp,5)\n",
    "txTest1 = build_poly(txTestTemp,5)\n",
    "w_Best, mse = ridge_regression(y, tx1, 0.11)\n",
    "generetate_csv_prediction(idsTest, w_Best, txTest1, \"testSub_Best.csv\")\n",
    "print(mse)"
   ]
  }
 ],
 "metadata": {
  "kernelspec": {
   "display_name": "Python 3 (ipykernel)",
   "language": "python",
   "name": "python3"
  },
  "language_info": {
   "codemirror_mode": {
    "name": "ipython",
    "version": 3
   },
   "file_extension": ".py",
   "mimetype": "text/x-python",
   "name": "python",
   "nbconvert_exporter": "python",
   "pygments_lexer": "ipython3",
   "version": "3.8.12"
  }
 },
 "nbformat": 4,
 "nbformat_minor": 5
}

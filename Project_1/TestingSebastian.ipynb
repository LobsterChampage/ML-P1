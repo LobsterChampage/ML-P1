{
 "cells": [
  {
   "cell_type": "code",
   "execution_count": 1,
   "id": "8f58977b-bb64-4dbe-bc9c-b06261f2a341",
   "metadata": {},
   "outputs": [],
   "source": [
    "import importlib\n",
    "import numpy as np\n",
    "from proj1_helpers import *\n",
    "from least_squares import *\n",
    "from ridge_regression import *\n",
    "import gradient_descent"
   ]
  },
  {
   "cell_type": "code",
   "execution_count": null,
   "metadata": {},
   "outputs": [],
   "source": []
  },
  {
   "cell_type": "code",
   "execution_count": 2,
   "metadata": {},
   "outputs": [],
   "source": [
    "y, tx, ids = load_csv_data('Data/train.csv')\n",
    "txTest, idsTest = load_csv_Test('Data/test.csv')"
   ]
  },
  {
   "cell_type": "code",
   "execution_count": 4,
   "metadata": {},
   "outputs": [],
   "source": [
    "\n",
    "mse, testW  = least_squares(y,tx)\n",
    "\n",
    "\n"
   ]
  },
  {
   "cell_type": "code",
   "execution_count": 5,
   "metadata": {},
   "outputs": [
    {
     "name": "stdout",
     "output_type": "stream",
     "text": [
      "0.3398074969310615\n"
     ]
    }
   ],
   "source": [
    "mse, testW = ridge_regression(y,tx,0.005)\n",
    "print(mse)\n",
    "\n",
    "l = testW"
   ]
  },
  {
   "cell_type": "code",
   "execution_count": 14,
   "metadata": {},
   "outputs": [
    {
     "name": "stdout",
     "output_type": "stream",
     "text": [
      "0.679614993862123\n",
      "0.6796010180820145\n",
      "401606410.3560941\n",
      "1.320218191300933e+22\n",
      "4.3416586459229066e+35\n",
      "1.4277963641470835e+49\n",
      "4.695446242536534e+62\n",
      "1.5441428464001735e+76\n",
      "5.078062886738599e+89\n",
      "1.669970025233617e+103\n",
      "5.4918577169686866e+116\n",
      "1.8060504516665984e+130\n",
      "5.939371342208647e+143\n",
      "1.9532196295013247e+157\n",
      "6.42335139740665e+170\n",
      "2.1123811450277036e+184\n",
      "6.946769413347206e+197\n",
      "2.2845122148438496e+211\n",
      "7.512839061194705e+224\n",
      "2.4706696857504387e+238\n",
      "8.125035883725516e+251\n",
      "2.671996523556957e+265\n",
      "8.787118634394032e+278\n",
      "2.88972883063966e+292\n",
      "9.503152355249748e+305\n",
      "inf\n",
      "inf\n",
      "inf\n",
      "inf\n",
      "inf\n",
      "inf\n",
      "inf\n",
      "inf\n",
      "inf\n",
      "inf\n",
      "inf\n"
     ]
    },
    {
     "name": "stderr",
     "output_type": "stream",
     "text": [
      "c:\\Users\\sebas\\Documents\\GitHub\\ML_EPFL\\Project_1\\gradient_descent.py:10: RuntimeWarning: overflow encountered in matmul\n",
      "  \n"
     ]
    },
    {
     "name": "stdout",
     "output_type": "stream",
     "text": [
      "inf\n",
      "inf\n",
      "inf\n",
      "inf\n",
      "inf\n",
      "inf\n",
      "inf\n",
      "inf\n",
      "inf\n",
      "inf\n",
      "inf\n",
      "nan\n",
      "nan\n",
      "nan\n"
     ]
    },
    {
     "name": "stderr",
     "output_type": "stream",
     "text": [
      "c:\\Users\\sebas\\Documents\\GitHub\\ML_EPFL\\Project_1\\gradient_descent.py:12: RuntimeWarning: overflow encountered in matmul\n",
      "  print(loss)\n",
      "c:\\Users\\sebas\\Documents\\GitHub\\ML_EPFL\\Project_1\\gradient_descent.py:8: RuntimeWarning: invalid value encountered in matmul\n",
      "  for n_iter in range(max_iters):\n"
     ]
    }
   ],
   "source": [
    "\n",
    "importlib.reload(gradient_descent)\n",
    "mse, testW = gradient_descent.gradient_descent(y, tx, l, 50, 1)"
   ]
  },
  {
   "cell_type": "code",
   "execution_count": 7,
   "metadata": {},
   "outputs": [
    {
     "name": "stdout",
     "output_type": "stream",
     "text": [
      "(30, 30)\n",
      "[ 2.69166238e+07 -6.82104965e+06 -6.52243855e+06 -1.64623481e+06\n",
      "  7.10049113e+07  7.72387010e+07  7.09120913e+07 -1.84407245e+05\n",
      " -1.56895267e+06 -8.25581500e+06 -1.52260008e+05  8.70636890e+04\n",
      "  7.09873190e+07 -1.79386969e+06  5.91454000e+02 -1.25523000e+03\n",
      " -3.83784984e+06  1.98971900e+03 -1.64694300e+03 -3.10636210e+06\n",
      "  4.01074000e+03 -1.24358072e+07 -4.60520000e+04  4.73342420e+07\n",
      "  4.88802491e+07  4.88803806e+07  7.04906523e+07  7.09822138e+07\n",
      "  7.09811341e+07 -2.62409515e+06]\n"
     ]
    }
   ],
   "source": [
    "\n",
    "yPred = predict_labels(testW, txTest)\n",
    "print(yPred)\n",
    "create_csv_submission(idsTest, yPred, \"testSub.csv\")"
   ]
  },
  {
   "cell_type": "code",
   "execution_count": 12,
   "metadata": {},
   "outputs": [
    {
     "name": "stdout",
     "output_type": "stream",
     "text": [
      "[[ 160.937   68.768  103.235 ... -999.    -999.      46.226]\n",
      " [-999.     162.172  125.953 ... -999.    -999.      44.251]\n",
      " [ 154.916   10.418   94.714 ... -999.    -999.      30.638]\n",
      " ...\n",
      " [-999.      78.256   79.699 ... -999.    -999.      78.984]\n",
      " [ 133.457   77.54    88.989 ... -999.    -999.      70.969]\n",
      " [ 105.457   60.526   75.839 ... -999.    -999.      41.992]]\n"
     ]
    },
    {
     "data": {
      "text/plain": [
       "array([[ 160.937,   68.768,  103.235, ..., -999.   , -999.   ,   46.226],\n",
       "       [-999.   ,  162.172,  125.953, ..., -999.   , -999.   ,   44.251],\n",
       "       [ 154.916,   10.418,   94.714, ..., -999.   , -999.   ,   30.638],\n",
       "       ...,\n",
       "       [-999.   ,   78.256,   79.699, ..., -999.   , -999.   ,   78.984],\n",
       "       [ 133.457,   77.54 ,   88.989, ..., -999.   , -999.   ,   70.969],\n",
       "       [ 105.457,   60.526,   75.839, ..., -999.   , -999.   ,   41.992]])"
      ]
     },
     "execution_count": 12,
     "metadata": {},
     "output_type": "execute_result"
    }
   ],
   "source": []
  },
  {
   "cell_type": "code",
   "execution_count": 11,
   "metadata": {},
   "outputs": [],
   "source": []
  },
  {
   "cell_type": "code",
   "execution_count": null,
   "metadata": {},
   "outputs": [],
   "source": []
  }
 ],
 "metadata": {
  "interpreter": {
   "hash": "2740b07bebd5a9538dcad413d55b5f8f7bc0dae380b851836f69cf85491ff86f"
  },
  "kernelspec": {
   "display_name": "Python 3.9.7 64-bit",
   "name": "python3"
  },
  "language_info": {
   "codemirror_mode": {
    "name": "ipython",
    "version": 3
   },
   "file_extension": ".py",
   "mimetype": "text/x-python",
   "name": "python",
   "nbconvert_exporter": "python",
   "pygments_lexer": "ipython3",
   "version": "3.9.7"
  }
 },
 "nbformat": 4,
 "nbformat_minor": 5
}

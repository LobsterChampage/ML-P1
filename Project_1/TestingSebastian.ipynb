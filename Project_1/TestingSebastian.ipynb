{
 "cells": [
  {
   "cell_type": "code",
   "execution_count": 1,
   "id": "8f58977b-bb64-4dbe-bc9c-b06261f2a341",
   "metadata": {},
   "outputs": [],
   "source": [
    "import importlib\n",
    "import numpy as np\n",
    "from proj1_helpers import *\n",
    "from least_squares import *\n",
    "from ridge_regression import *\n",
    "from gradient_descent import *\n",
    "from logistic_regression import *\n",
    "import matplotlib.pyplot as plt"
   ]
  },
  {
   "cell_type": "code",
   "execution_count": 2,
   "metadata": {},
   "outputs": [],
   "source": [
    "y, txorg, ids = load_csv_data('Data/train.csv')\n",
    "y = np.array([y])\n",
    "y = y.T\n",
    "txTestorg, idsTest = load_csv_Test('Data/test.csv')"
   ]
  },
  {
   "cell_type": "code",
   "execution_count": 5,
   "metadata": {},
   "outputs": [],
   "source": [
    "degree = 2\n",
    "polFunc = np.ones([txTestorg.shape[0],txTestorg.shape[1]*(degree)+1])\n",
    "for j in range(degree):\n",
    "    #trying with mean now\n",
    "    polFunc[:,1+30*j:1+30*j+30] = np.power(txTestorg,j+1)\n",
    "txTest = polFunc"
   ]
  },
  {
   "cell_type": "code",
   "execution_count": 6,
   "metadata": {},
   "outputs": [
    {
     "name": "stdout",
     "output_type": "stream",
     "text": [
      "0.0794653488135822\n"
     ]
    }
   ],
   "source": [
    "\n",
    "#polFunc = np.ones([tx.shape[0],tx.shape[1]*(degree+1)])\n",
    "# for j in range(degree):\n",
    "#     polFunc[i,j] = np.power(tx,)\n",
    "\n"
   ]
  },
  {
   "cell_type": "code",
   "execution_count": 13,
   "metadata": {},
   "outputs": [
    {
     "name": "stdout",
     "output_type": "stream",
     "text": [
      "(250000, 1)\n",
      "(250000, 91)\n",
      "(30, 1)\n"
     ]
    },
    {
     "ename": "ValueError",
     "evalue": "matmul: Input operand 1 has a mismatch in its core dimension 0, with gufunc signature (n?,k),(k,m?)->(n?,m?) (size 30 is different from 91)",
     "output_type": "error",
     "traceback": [
      "\u001b[1;31m---------------------------------------------------------------------------\u001b[0m",
      "\u001b[1;31mValueError\u001b[0m                                Traceback (most recent call last)",
      "\u001b[1;32m~\\AppData\\Local\\Temp/ipykernel_30276/3263220062.py\u001b[0m in \u001b[0;36m<module>\u001b[1;34m\u001b[0m\n\u001b[0;32m      5\u001b[0m \u001b[0mprint\u001b[0m\u001b[1;33m(\u001b[0m\u001b[0mtx\u001b[0m\u001b[1;33m.\u001b[0m\u001b[0mshape\u001b[0m\u001b[1;33m)\u001b[0m\u001b[1;33m\u001b[0m\u001b[1;33m\u001b[0m\u001b[0m\n\u001b[0;32m      6\u001b[0m \u001b[0mprint\u001b[0m\u001b[1;33m(\u001b[0m\u001b[0ml\u001b[0m\u001b[1;33m.\u001b[0m\u001b[0mshape\u001b[0m\u001b[1;33m)\u001b[0m\u001b[1;33m\u001b[0m\u001b[1;33m\u001b[0m\u001b[0m\n\u001b[1;32m----> 7\u001b[1;33m \u001b[0mtestW\u001b[0m\u001b[1;33m,\u001b[0m \u001b[0mloss\u001b[0m \u001b[1;33m=\u001b[0m \u001b[0mts\u001b[0m\u001b[1;33m.\u001b[0m\u001b[0mlogistic_regression_test\u001b[0m\u001b[1;33m(\u001b[0m\u001b[0my\u001b[0m\u001b[1;33m,\u001b[0m \u001b[0mtx\u001b[0m\u001b[1;33m,\u001b[0m \u001b[0ml\u001b[0m\u001b[1;33m,\u001b[0m \u001b[1;36m5000\u001b[0m\u001b[1;33m,\u001b[0m \u001b[1;36m0.000001\u001b[0m\u001b[1;33m)\u001b[0m\u001b[1;33m\u001b[0m\u001b[1;33m\u001b[0m\u001b[0m\n\u001b[0m\u001b[0;32m      8\u001b[0m \u001b[0me\u001b[0m \u001b[1;33m=\u001b[0m \u001b[0my\u001b[0m\u001b[1;33m-\u001b[0m \u001b[0mtx\u001b[0m \u001b[1;33m@\u001b[0m \u001b[0mtestW\u001b[0m\u001b[1;33m\u001b[0m\u001b[1;33m\u001b[0m\u001b[0m\n\u001b[0;32m      9\u001b[0m \u001b[0mmse\u001b[0m \u001b[1;33m=\u001b[0m  \u001b[1;36m1\u001b[0m\u001b[1;33m/\u001b[0m\u001b[1;33m(\u001b[0m\u001b[1;36m2\u001b[0m\u001b[1;33m*\u001b[0m\u001b[0mlen\u001b[0m\u001b[1;33m(\u001b[0m\u001b[0my\u001b[0m\u001b[1;33m)\u001b[0m\u001b[1;33m)\u001b[0m\u001b[1;33m*\u001b[0m\u001b[0me\u001b[0m\u001b[1;33m.\u001b[0m\u001b[0mT\u001b[0m\u001b[1;33m@\u001b[0m\u001b[0me\u001b[0m\u001b[1;33m\u001b[0m\u001b[1;33m\u001b[0m\u001b[0m\n",
      "\u001b[1;32mc:\\Users\\sebas\\Documents\\GitHub\\ML_EPFL\\Project_1\\testlog.py\u001b[0m in \u001b[0;36mlogistic_regression_test\u001b[1;34m(y, tx, init_w, max_iters, gamma)\u001b[0m\n\u001b[0;32m     11\u001b[0m \u001b[1;33m\u001b[0m\u001b[0m\n\u001b[0;32m     12\u001b[0m         \u001b[1;32mfor\u001b[0m \u001b[0mi\u001b[0m \u001b[1;32min\u001b[0m \u001b[0mrange\u001b[0m\u001b[1;33m(\u001b[0m\u001b[0mmax_iters\u001b[0m\u001b[1;33m)\u001b[0m\u001b[1;33m:\u001b[0m\u001b[1;33m\u001b[0m\u001b[1;33m\u001b[0m\u001b[0m\n\u001b[1;32m---> 13\u001b[1;33m                 \u001b[0mh\u001b[0m \u001b[1;33m=\u001b[0m \u001b[0msigmoid\u001b[0m\u001b[1;33m(\u001b[0m\u001b[0mnp\u001b[0m\u001b[1;33m.\u001b[0m\u001b[0mmatmul\u001b[0m\u001b[1;33m(\u001b[0m\u001b[0mtx\u001b[0m\u001b[1;33m,\u001b[0m \u001b[0mw\u001b[0m\u001b[1;33m)\u001b[0m\u001b[1;33m)\u001b[0m\u001b[1;33m\u001b[0m\u001b[1;33m\u001b[0m\u001b[0m\n\u001b[0m\u001b[0;32m     14\u001b[0m                 \u001b[0mgrad\u001b[0m \u001b[1;33m=\u001b[0m \u001b[0mnp\u001b[0m\u001b[1;33m.\u001b[0m\u001b[0mmatmul\u001b[0m\u001b[1;33m(\u001b[0m\u001b[0mtx\u001b[0m\u001b[1;33m.\u001b[0m\u001b[0mT\u001b[0m\u001b[1;33m,\u001b[0m \u001b[1;33m(\u001b[0m\u001b[0mh\u001b[0m \u001b[1;33m-\u001b[0m \u001b[0my\u001b[0m\u001b[1;33m)\u001b[0m\u001b[1;33m)\u001b[0m \u001b[1;33m/\u001b[0m \u001b[0mN\u001b[0m\u001b[1;33m\u001b[0m\u001b[1;33m\u001b[0m\u001b[0m\n\u001b[0;32m     15\u001b[0m \u001b[1;33m\u001b[0m\u001b[0m\n",
      "\u001b[1;31mValueError\u001b[0m: matmul: Input operand 1 has a mismatch in its core dimension 0, with gufunc signature (n?,k),(k,m?)->(n?,m?) (size 30 is different from 91)"
     ]
    }
   ],
   "source": [
    "import testlog as ts\n",
    "importlib.reload(ts)\n",
    "l = np.zeros((30,1))\n",
    "print(y.shape)\n",
    "print(tx.shape)\n",
    "print(l.shape)\n",
    "testW, loss = ts.logistic_regression_test(y, tx, l, 5000, 0.000001)\n",
    "e = y- tx @ testW\n",
    "mse =  1/(2*len(y))*e.T@e\n",
    "print(mse)\n",
    "\n",
    "\n"
   ]
  },
  {
   "cell_type": "code",
   "execution_count": 20,
   "metadata": {},
   "outputs": [
    {
     "name": "stdout",
     "output_type": "stream",
     "text": [
      "0.0014873521072935117\n",
      "0.3890240891603785\n"
     ]
    },
    {
     "data": {
      "image/png": "[encoded data removed]",
      "text/plain": [
       "<Figure size 432x288 with 1 Axes>"
      ]
     },
     "metadata": {
      "needs_background": "light"
     },
     "output_type": "display_data"
    }
   ],
   "source": [
    "w_init = least_squares(y,tx)[1]\n",
    "#gradient descent -15 to -6.5 gives good overview\n",
    "#logistic gradeint diverges after around -14 graph until 13.8 gives good overview -14 good with rmse\n",
    "lambdas = np.logspace(-5, 2, 30)\n",
    "rmse_te = []\n",
    "rmse_tr = []\n",
    "min_loss = 100000000000000000\n",
    "min_lambda = 0\n",
    "for lambda_ in lambdas:\n",
    "    k_indices = build_k_indices(y,2,1)\n",
    "    tr = []\n",
    "    te = []\n",
    "    \n",
    "    for k in range(len(k_indices)):\n",
    "\n",
    "        \n",
    "\n",
    "        #make a mask to extract all test data\n",
    "        mask = np.zeros(tx.shape[0], dtype=bool)\n",
    "        mask[k_indices[k]] = True\n",
    "\n",
    "        train_x = tx[mask,...]\n",
    "        train_y = y[mask]\n",
    "        amask = np.invert(mask)\n",
    "        test_x = tx[amask,...]\n",
    "        test_y = y[amask]\n",
    "        mse, weights = ridge_regression(train_y,train_x,lambda_)\n",
    "\n",
    "        # calculate the loss for train and test data:\n",
    "        \"\"\"rmse loss\"\"\"\n",
    "        loss_tr = np.sqrt(2 * compute_mse(train_y, train_x , weights))\n",
    "        loss_te = np.sqrt(2 * compute_mse(test_y, test_x , weights))\n",
    "       \n",
    "        \"\"\"logistic loss\"\"\"\n",
    "        \n",
    "        # loss_tr = compute_loss(train_y, train_x, weights)\n",
    "        # loss_te = compute_loss(test_y, test_x, weights)\n",
    "        \n",
    "        tr.append(loss_tr)\n",
    "        te.append(loss_te)\n",
    "\n",
    "    rmse_tr.append(np.array(tr).mean())\n",
    "    rmse_te.append(np.array(te).mean())\n",
    "   \n",
    "    if(rmse_tr[-1]<min_loss):\n",
    "        min_loss = rmse_tr[-1]\n",
    "        min_lambda = lambda_\n",
    "\n",
    "cross_validation_visualization(lambdas, rmse_tr, rmse_te)\n",
    "print(min_lambda)\n",
    "print(min_loss)\n"
   ]
  },
  {
   "cell_type": "code",
   "execution_count": 80,
   "metadata": {},
   "outputs": [],
   "source": [
    "degree = 1\n",
    "polFunc = np.ones([txorg.shape[0],txorg.shape[1]*(degree)+1])\n",
    "for j in range(degree):\n",
    "    #trying with mean now\n",
    "    polFunc[:,1+30*j:1+30*j+30] = np.power(txorg,j+1)\n",
    "tx = polFunc"
   ]
  },
  {
   "cell_type": "code",
   "execution_count": 81,
   "metadata": {},
   "outputs": [
    {
     "name": "stderr",
     "output_type": "stream",
     "text": [
      "c:\\Users\\sebas\\Documents\\GitHub\\ML_EPFL\\Project_1\\logistic_regression.py:22: RuntimeWarning: overflow encountered in exp\n",
      "  loss = np.sum(-y*(tx @ w) + np.log(1+np.exp(tx @ w)))\n"
     ]
    },
    {
     "name": "stdout",
     "output_type": "stream",
     "text": [
      "1e-20\n",
      "0.39341047069726454\n"
     ]
    },
    {
     "data": {
      "image/png": "[encoded data removed]",
      "text/plain": [
       "<Figure size 432x288 with 1 Axes>"
      ]
     },
     "metadata": {
      "needs_background": "light"
     },
     "output_type": "display_data"
    }
   ],
   "source": [
    "w_init = least_squares(y,tx)[1]\n",
    "w_init = np.zeros(w_init.shape)\n",
    "#w_init = np.zeros(w_init.shape)\n",
    "#gradient descent -15 to -6.5 gives good overview gamma = 3.727593720314938e-07 with degree 5\n",
    "#logistic gradeint diverges after around -14 graph until 13.8 gives good overview -14 good with rmse\n",
    "lambdas = np.logspace(-20,-5,10)\n",
    "rmse_te = []\n",
    "rmse_tr = []\n",
    "min_loss1 = 100000000000000000\n",
    "min_lambda = 0\n",
    "for lambda_ in lambdas:\n",
    "    k_indices = build_k_indices(y,4,5)\n",
    "    tr = []\n",
    "    te = []\n",
    "    \n",
    "    for k in range(len(k_indices)):\n",
    "\n",
    "        \n",
    "\n",
    "        #make a mask to extract all test data\n",
    "        mask = np.zeros(tx.shape[0], dtype=bool)\n",
    "        mask[k_indices[k]] = True\n",
    "\n",
    "        train_x = tx[mask,...]\n",
    "        train_y = y[mask]\n",
    "        amask = np.invert(mask)\n",
    "        test_x = tx[amask,...]\n",
    "        test_y = y[amask]\n",
    "        mse, weights = gradient_descent(train_y,train_x, w_init,50,pow(lambda_,degree))\n",
    "\n",
    "        # calculate the loss for train and test data:\n",
    "        \"\"\"rmse loss\"\"\"\n",
    "        # loss_tr = np.sqrt(2 * compute_mse(train_y, train_x , weights))\n",
    "        # loss_te = np.sqrt(2 * compute_mse(test_y, test_x , weights))\n",
    "       \n",
    "        \"\"\"logistic loss\"\"\"\n",
    "        \n",
    "        loss_tr = calculate_loss(train_y, train_x, weights)\n",
    "        loss_te = calculate_loss(test_y, test_x, weights)\n",
    "        \"\"\"predictive loss\"\"\"\n",
    "        # e = train_y - predict_labels(weights,train_x)\n",
    "        # loss_tr = np.sqrt(1/len(e)*e.T @ e)\n",
    "        # e = test_y - predict_labels(weights,test_x)\n",
    "        # loss_te = np.sqrt(1/len(e)*e.T @ e)\n",
    "        tr.append(loss_tr)\n",
    "        te.append(loss_te)\n",
    "\n",
    "    rmse_tr.append(np.array(tr).mean())\n",
    "    rmse_te.append(np.array(te).mean())\n",
    "    \n",
    "    \n",
    "    if(rmse_te[-1]<min_loss1):\n",
    "        min_lambda = lambda_\n",
    "        min_loss1 = float(rmse_te[-1])\n",
    "    \n",
    "        \n",
    "degreeStr = str(1)\n",
    "cross_validation_visualization(lambdas, rmse_tr, rmse_te, 'LR degree = %s' % degree,degreeStr)\n",
    "print(min_lambda)\n",
    "print(min_loss)"
   ]
  },
  {
   "cell_type": "code",
   "execution_count": 7,
   "metadata": {},
   "outputs": [
    {
     "name": "stdout",
     "output_type": "stream",
     "text": [
      "0.0742002114754534\n"
     ]
    }
   ],
   "source": [
    "\n",
    "mse, testW  = least_squares(y,tx)\n",
    "\n",
    "print(mse)\n"
   ]
  },
  {
   "cell_type": "code",
   "execution_count": 149,
   "metadata": {},
   "outputs": [
    {
     "name": "stdout",
     "output_type": "stream",
     "text": [
      "[[0.08068415]]\n"
     ]
    }
   ],
   "source": [
    "\n",
    "\n",
    "\n"
   ]
  },
  {
   "cell_type": "code",
   "execution_count": 19,
   "metadata": {},
   "outputs": [
    {
     "name": "stdout",
     "output_type": "stream",
     "text": [
      "[[0.11204813]]\n"
     ]
    }
   ],
   "source": [
    "\n",
    "\n",
    "l = np.zeros(testW1.shape)\n",
    "\n",
    "test = tx.T @ y\n",
    "\n",
    "\n",
    "mse, testW = gradient_descent(y, tx, l, 50, pow(1e-07,degree))\n",
    "print(mse)"
   ]
  },
  {
   "cell_type": "code",
   "execution_count": null,
   "metadata": {},
   "outputs": [],
   "source": [
    "l = np.zeros((30,1))\n",
    "print(y.shape)\n",
    "print(tx.shape)\n",
    "print(l.shape)\n",
    "mse, testW = logistic_regression(y, tx, l, 500, pow(10,-30))\n",
    "print(mse)"
   ]
  },
  {
   "cell_type": "code",
   "execution_count": null,
   "metadata": {},
   "outputs": [],
   "source": [
    "\n",
    "l = np.ones((30,1))*0.5\n",
    "print(y.shape)\n",
    "print(tx.shape)\n",
    "print(l.shape)\n",
    "mse, testW = penalized_logistic_regression(y, meanTX, 0.1, l, 50, 0.000000000001)\n",
    "print(mse)"
   ]
  },
  {
   "cell_type": "code",
   "execution_count": 21,
   "metadata": {},
   "outputs": [],
   "source": [
    "w_init = np.zeros((30,1))\n",
    "\n",
    "testW = logistic_regression(y,tx,w_init,500, pow(10,-11.5))[1]\n"
   ]
  },
  {
   "cell_type": "code",
   "execution_count": 153,
   "metadata": {},
   "outputs": [
    {
     "name": "stdout",
     "output_type": "stream",
     "text": [
      "[[0.08068415]]\n"
     ]
    }
   ],
   "source": [
    "mse, testW = ridge_regression(y,tx,0.11)\n",
    "print(mse)\n",
    "yPred = predict_labels(testW, txTest)\n",
    "yPred[np.where(yPred==0)] = -1\n",
    "\n",
    "create_csv_submission(idsTest, yPred, \"testSub.csv\")"
   ]
  },
  {
   "cell_type": "code",
   "execution_count": 54,
   "metadata": {},
   "outputs": [
    {
     "ename": "LinAlgError",
     "evalue": "Singular matrix",
     "output_type": "error",
     "traceback": [
      "\u001b[1;31m---------------------------------------------------------------------------\u001b[0m",
      "\u001b[1;31mLinAlgError\u001b[0m                               Traceback (most recent call last)",
      "\u001b[1;32m~\\AppData\\Local\\Temp/ipykernel_17448/509581776.py\u001b[0m in \u001b[0;36m<module>\u001b[1;34m\u001b[0m\n\u001b[1;32m----> 1\u001b[1;33m \u001b[0mmse\u001b[0m\u001b[1;33m,\u001b[0m \u001b[0mtestW1\u001b[0m  \u001b[1;33m=\u001b[0m \u001b[0mleast_squares\u001b[0m\u001b[1;33m(\u001b[0m\u001b[0my\u001b[0m\u001b[1;33m,\u001b[0m\u001b[0mtx\u001b[0m\u001b[1;33m)\u001b[0m\u001b[1;33m\u001b[0m\u001b[1;33m\u001b[0m\u001b[0m\n\u001b[0m",
      "\u001b[1;32mc:\\Users\\sebas\\Documents\\GitHub\\ML_EPFL\\Project_1\\least_squares.py\u001b[0m in \u001b[0;36mleast_squares\u001b[1;34m(y, tx)\u001b[0m\n\u001b[0;32m      4\u001b[0m     \u001b[1;34m\"\"\"calculate the least squares solution.\"\"\"\u001b[0m\u001b[1;33m\u001b[0m\u001b[1;33m\u001b[0m\u001b[0m\n\u001b[0;32m      5\u001b[0m \u001b[1;33m\u001b[0m\u001b[0m\n\u001b[1;32m----> 6\u001b[1;33m     \u001b[0mw\u001b[0m \u001b[1;33m=\u001b[0m \u001b[0mnp\u001b[0m\u001b[1;33m.\u001b[0m\u001b[0mlinalg\u001b[0m\u001b[1;33m.\u001b[0m\u001b[0msolve\u001b[0m\u001b[1;33m(\u001b[0m\u001b[1;33m(\u001b[0m\u001b[0mnp\u001b[0m\u001b[1;33m.\u001b[0m\u001b[0mtranspose\u001b[0m\u001b[1;33m(\u001b[0m\u001b[0mtx\u001b[0m\u001b[1;33m)\u001b[0m \u001b[1;33m@\u001b[0m \u001b[0mtx\u001b[0m\u001b[1;33m)\u001b[0m\u001b[1;33m,\u001b[0m \u001b[0mtx\u001b[0m\u001b[1;33m.\u001b[0m\u001b[0mT\u001b[0m\u001b[1;33m@\u001b[0m\u001b[0my\u001b[0m \u001b[1;33m)\u001b[0m\u001b[1;33m\u001b[0m\u001b[1;33m\u001b[0m\u001b[0m\n\u001b[0m\u001b[0;32m      7\u001b[0m \u001b[1;33m\u001b[0m\u001b[0m\n\u001b[0;32m      8\u001b[0m     \u001b[0me\u001b[0m \u001b[1;33m=\u001b[0m \u001b[0my\u001b[0m\u001b[1;33m-\u001b[0m\u001b[0mtx\u001b[0m \u001b[1;33m@\u001b[0m \u001b[0mw\u001b[0m\u001b[1;33m\u001b[0m\u001b[1;33m\u001b[0m\u001b[0m\n",
      "\u001b[1;32m<__array_function__ internals>\u001b[0m in \u001b[0;36msolve\u001b[1;34m(*args, **kwargs)\u001b[0m\n",
      "\u001b[1;32m~\\AppData\\Local\\Programs\\Python\\Python39\\lib\\site-packages\\numpy\\linalg\\linalg.py\u001b[0m in \u001b[0;36msolve\u001b[1;34m(a, b)\u001b[0m\n\u001b[0;32m    391\u001b[0m     \u001b[0msignature\u001b[0m \u001b[1;33m=\u001b[0m \u001b[1;34m'DD->D'\u001b[0m \u001b[1;32mif\u001b[0m \u001b[0misComplexType\u001b[0m\u001b[1;33m(\u001b[0m\u001b[0mt\u001b[0m\u001b[1;33m)\u001b[0m \u001b[1;32melse\u001b[0m \u001b[1;34m'dd->d'\u001b[0m\u001b[1;33m\u001b[0m\u001b[1;33m\u001b[0m\u001b[0m\n\u001b[0;32m    392\u001b[0m     \u001b[0mextobj\u001b[0m \u001b[1;33m=\u001b[0m \u001b[0mget_linalg_error_extobj\u001b[0m\u001b[1;33m(\u001b[0m\u001b[0m_raise_linalgerror_singular\u001b[0m\u001b[1;33m)\u001b[0m\u001b[1;33m\u001b[0m\u001b[1;33m\u001b[0m\u001b[0m\n\u001b[1;32m--> 393\u001b[1;33m     \u001b[0mr\u001b[0m \u001b[1;33m=\u001b[0m \u001b[0mgufunc\u001b[0m\u001b[1;33m(\u001b[0m\u001b[0ma\u001b[0m\u001b[1;33m,\u001b[0m \u001b[0mb\u001b[0m\u001b[1;33m,\u001b[0m \u001b[0msignature\u001b[0m\u001b[1;33m=\u001b[0m\u001b[0msignature\u001b[0m\u001b[1;33m,\u001b[0m \u001b[0mextobj\u001b[0m\u001b[1;33m=\u001b[0m\u001b[0mextobj\u001b[0m\u001b[1;33m)\u001b[0m\u001b[1;33m\u001b[0m\u001b[1;33m\u001b[0m\u001b[0m\n\u001b[0m\u001b[0;32m    394\u001b[0m \u001b[1;33m\u001b[0m\u001b[0m\n\u001b[0;32m    395\u001b[0m     \u001b[1;32mreturn\u001b[0m \u001b[0mwrap\u001b[0m\u001b[1;33m(\u001b[0m\u001b[0mr\u001b[0m\u001b[1;33m.\u001b[0m\u001b[0mastype\u001b[0m\u001b[1;33m(\u001b[0m\u001b[0mresult_t\u001b[0m\u001b[1;33m,\u001b[0m \u001b[0mcopy\u001b[0m\u001b[1;33m=\u001b[0m\u001b[1;32mFalse\u001b[0m\u001b[1;33m)\u001b[0m\u001b[1;33m)\u001b[0m\u001b[1;33m\u001b[0m\u001b[1;33m\u001b[0m\u001b[0m\n",
      "\u001b[1;32m~\\AppData\\Local\\Programs\\Python\\Python39\\lib\\site-packages\\numpy\\linalg\\linalg.py\u001b[0m in \u001b[0;36m_raise_linalgerror_singular\u001b[1;34m(err, flag)\u001b[0m\n\u001b[0;32m     86\u001b[0m \u001b[1;33m\u001b[0m\u001b[0m\n\u001b[0;32m     87\u001b[0m \u001b[1;32mdef\u001b[0m \u001b[0m_raise_linalgerror_singular\u001b[0m\u001b[1;33m(\u001b[0m\u001b[0merr\u001b[0m\u001b[1;33m,\u001b[0m \u001b[0mflag\u001b[0m\u001b[1;33m)\u001b[0m\u001b[1;33m:\u001b[0m\u001b[1;33m\u001b[0m\u001b[1;33m\u001b[0m\u001b[0m\n\u001b[1;32m---> 88\u001b[1;33m     \u001b[1;32mraise\u001b[0m \u001b[0mLinAlgError\u001b[0m\u001b[1;33m(\u001b[0m\u001b[1;34m\"Singular matrix\"\u001b[0m\u001b[1;33m)\u001b[0m\u001b[1;33m\u001b[0m\u001b[1;33m\u001b[0m\u001b[0m\n\u001b[0m\u001b[0;32m     89\u001b[0m \u001b[1;33m\u001b[0m\u001b[0m\n\u001b[0;32m     90\u001b[0m \u001b[1;32mdef\u001b[0m \u001b[0m_raise_linalgerror_nonposdef\u001b[0m\u001b[1;33m(\u001b[0m\u001b[0merr\u001b[0m\u001b[1;33m,\u001b[0m \u001b[0mflag\u001b[0m\u001b[1;33m)\u001b[0m\u001b[1;33m:\u001b[0m\u001b[1;33m\u001b[0m\u001b[1;33m\u001b[0m\u001b[0m\n",
      "\u001b[1;31mLinAlgError\u001b[0m: Singular matrix"
     ]
    }
   ],
   "source": [
    "mse, testW1  = least_squares(y,tx)"
   ]
  },
  {
   "cell_type": "code",
   "execution_count": 26,
   "metadata": {},
   "outputs": [
    {
     "name": "stdout",
     "output_type": "stream",
     "text": [
      "[[-1.]\n",
      " [-1.]\n",
      " [-1.]\n",
      " ...\n",
      " [-1.]\n",
      " [ 1.]\n",
      " [-1.]]\n"
     ]
    }
   ],
   "source": [
    "yPred = predict_labels(testW1, txTest)\n",
    "yPred[np.where(yPred==0)] = -1\n",
    "print(yPred)\n",
    "create_csv_submission(idsTest, yPred, \"testSub1.csv\")"
   ]
  },
  {
   "cell_type": "code",
   "execution_count": 30,
   "metadata": {},
   "outputs": [
    {
     "name": "stdout",
     "output_type": "stream",
     "text": [
      "117810\n"
     ]
    },
    {
     "data": {
      "text/plain": [
       "568238"
      ]
     },
     "execution_count": 30,
     "metadata": {},
     "output_type": "execute_result"
    }
   ],
   "source": [
    "check =yPred+yPred1\n",
    "print(np.count_nonzero(check==0))\n",
    "len(check)"
   ]
  },
  {
   "cell_type": "code",
   "execution_count": null,
   "metadata": {},
   "outputs": [],
   "source": []
  }
 ],
 "metadata": {
  "interpreter": {
   "hash": "2740b07bebd5a9538dcad413d55b5f8f7bc0dae380b851836f69cf85491ff86f"
  },
  "kernelspec": {
   "display_name": "Python 3.9.7 64-bit",
   "name": "python3"
  },
  "language_info": {
   "codemirror_mode": {
    "name": "ipython",
    "version": 3
   },
   "file_extension": ".py",
   "mimetype": "text/x-python",
   "name": "python",
   "nbconvert_exporter": "python",
   "pygments_lexer": "ipython3",
   "version": "3.9.7"
  }
 },
 "nbformat": 4,
 "nbformat_minor": 5
}

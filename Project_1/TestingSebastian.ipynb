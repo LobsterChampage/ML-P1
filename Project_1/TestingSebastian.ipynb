{
 "cells": [
  {
   "cell_type": "code",
   "execution_count": 7,
   "id": "8f58977b-bb64-4dbe-bc9c-b06261f2a341",
   "metadata": {},
   "outputs": [],
   "source": [
    "\n",
    "import numpy as np\n",
    "from proj1_helpers import *\n",
    "from least_squares import *"
   ]
  },
  {
   "cell_type": "code",
   "execution_count": 3,
   "metadata": {},
   "outputs": [],
   "source": [
    "y, tx, ids = load_csv_data('Data/train.csv')\n",
    "txTest, ids = load_csv_Test('Data/test.csv')"
   ]
  },
  {
   "cell_type": "code",
   "execution_count": 9,
   "metadata": {},
   "outputs": [
    {
     "name": "stdout",
     "output_type": "stream",
     "text": [
      "hej\n",
      "0.3396868094771245\n",
      "[-1. -1. -1. ... -1.  1. -1.]\n"
     ]
    }
   ],
   "source": [
    "\n",
    "mse, testW  = least_squares(y,tx)\n",
    "print(mse)\n",
    "yPred = predict_labels(testW, txTest)\n",
    "print(yPred)\n",
    "\n",
    "\n"
   ]
  },
  {
   "cell_type": "code",
   "execution_count": 7,
   "metadata": {},
   "outputs": [
    {
     "name": "stdout",
     "output_type": "stream",
     "text": [
      "(30, 30)\n",
      "[ 2.69166238e+07 -6.82104965e+06 -6.52243855e+06 -1.64623481e+06\n",
      "  7.10049113e+07  7.72387010e+07  7.09120913e+07 -1.84407245e+05\n",
      " -1.56895267e+06 -8.25581500e+06 -1.52260008e+05  8.70636890e+04\n",
      "  7.09873190e+07 -1.79386969e+06  5.91454000e+02 -1.25523000e+03\n",
      " -3.83784984e+06  1.98971900e+03 -1.64694300e+03 -3.10636210e+06\n",
      "  4.01074000e+03 -1.24358072e+07 -4.60520000e+04  4.73342420e+07\n",
      "  4.88802491e+07  4.88803806e+07  7.04906523e+07  7.09822138e+07\n",
      "  7.09811341e+07 -2.62409515e+06]\n"
     ]
    }
   ],
   "source": [
    "t = tx.T @ tx\n",
    "print(t.shape)\n",
    "print(y @ tx)"
   ]
  },
  {
   "cell_type": "code",
   "execution_count": 12,
   "metadata": {},
   "outputs": [
    {
     "name": "stdout",
     "output_type": "stream",
     "text": [
      "[[ 160.937   68.768  103.235 ... -999.    -999.      46.226]\n",
      " [-999.     162.172  125.953 ... -999.    -999.      44.251]\n",
      " [ 154.916   10.418   94.714 ... -999.    -999.      30.638]\n",
      " ...\n",
      " [-999.      78.256   79.699 ... -999.    -999.      78.984]\n",
      " [ 133.457   77.54    88.989 ... -999.    -999.      70.969]\n",
      " [ 105.457   60.526   75.839 ... -999.    -999.      41.992]]\n"
     ]
    },
    {
     "data": {
      "text/plain": [
       "array([[ 160.937,   68.768,  103.235, ..., -999.   , -999.   ,   46.226],\n",
       "       [-999.   ,  162.172,  125.953, ..., -999.   , -999.   ,   44.251],\n",
       "       [ 154.916,   10.418,   94.714, ..., -999.   , -999.   ,   30.638],\n",
       "       ...,\n",
       "       [-999.   ,   78.256,   79.699, ..., -999.   , -999.   ,   78.984],\n",
       "       [ 133.457,   77.54 ,   88.989, ..., -999.   , -999.   ,   70.969],\n",
       "       [ 105.457,   60.526,   75.839, ..., -999.   , -999.   ,   41.992]])"
      ]
     },
     "execution_count": 12,
     "metadata": {},
     "output_type": "execute_result"
    }
   ],
   "source": []
  },
  {
   "cell_type": "code",
   "execution_count": 11,
   "metadata": {},
   "outputs": [],
   "source": []
  },
  {
   "cell_type": "code",
   "execution_count": null,
   "metadata": {},
   "outputs": [],
   "source": []
  }
 ],
 "metadata": {
  "interpreter": {
   "hash": "2740b07bebd5a9538dcad413d55b5f8f7bc0dae380b851836f69cf85491ff86f"
  },
  "kernelspec": {
   "display_name": "Python 3.9.7 64-bit",
   "name": "python3"
  },
  "language_info": {
   "codemirror_mode": {
    "name": "ipython",
    "version": 3
   },
   "file_extension": ".py",
   "mimetype": "text/x-python",
   "name": "python",
   "nbconvert_exporter": "python",
   "pygments_lexer": "ipython3",
   "version": "3.9.7"
  }
 },
 "nbformat": 4,
 "nbformat_minor": 5
}

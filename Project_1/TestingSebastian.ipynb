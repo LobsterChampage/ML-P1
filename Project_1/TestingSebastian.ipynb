{
 "cells": [
  {
   "cell_type": "code",
   "execution_count": null,
   "id": "8f58977b-bb64-4dbe-bc9c-b06261f2a341",
   "metadata": {},
   "outputs": [],
   "source": [
    "import importlib\n",
    "import numpy as np\n",
    "from proj1_helpers import *\n",
    "from least_squares import *\n",
    "from ridge_regression import *\n",
    "from gradient_descent import *\n",
    "from logistic_regression import *"
   ]
  },
  {
   "cell_type": "code",
   "execution_count": 2,
   "metadata": {},
   "outputs": [],
   "source": [
    "y, tx, ids = load_csv_data('Data/train.csv')\n",
    "y = np.array([y])\n",
    "y = y.T\n",
    "txTest, idsTest = load_csv_Test('Data/test.csv')"
   ]
  },
  {
   "cell_type": "code",
   "execution_count": null,
   "metadata": {},
   "outputs": [],
   "source": [
    "print(y)"
   ]
  },
  {
   "cell_type": "code",
   "execution_count": null,
   "metadata": {},
   "outputs": [],
   "source": [
    "import testlog as ts\n",
    "importlib.reload(ts)\n",
    "l = np.zeros((30,1))\n",
    "print(y.shape)\n",
    "print(tx.shape)\n",
    "print(l.shape)\n",
    "testW, loss = ts.logistic_regression_test(y, tx, l, 5000, 0.000001)\n",
    "e = y- tx @ testW\n",
    "mse =  1/(2*len(y))*e.T@e\n",
    "print(mse)\n",
    "\n",
    "\n"
   ]
  },
  {
   "cell_type": "code",
   "execution_count": 3,
   "metadata": {},
   "outputs": [
    {
     "data": {
      "image/png": "[encoded data removed]",
      "text/plain": [
       "<Figure size 432x288 with 1 Axes>"
      ]
     },
     "metadata": {
      "needs_background": "light"
     },
     "output_type": "display_data"
    }
   ],
   "source": [
    "w_init = np.zeros((30,1))\n",
    "#gradient descent -15 to -6.5 gives good overview\n",
    "#logistic gradeint diverges after around -14 graph until 13.8 gives good overview -14 good with rmse\n",
    "lambdas = np.logspace(-15, -10, 10)\n",
    "rmse_te = []\n",
    "rmse_tr = []\n",
    "for lambda_ in lambdas:\n",
    "    k_indices = build_k_indices(y,4,1)\n",
    "    tr = []\n",
    "    te = []\n",
    "    for k in range(4):\n",
    "\n",
    "        data = np.c_[y,tx]\n",
    "\n",
    "        #make a mask to extract all test data\n",
    "        mask = np.zeros(data.shape[0], dtype=bool)\n",
    "        mask[k_indices[k]] = True\n",
    "\n",
    "        test = data[mask,...]\n",
    "        amask = np.invert(mask)\n",
    "        train = data[amask,...]\n",
    "\n",
    "        train_x = train[:,1:]\n",
    "        test_x = test[:,1:]\n",
    "\n",
    "        train_y = np.array([train[:,0]]).T\n",
    "        test_y = np.array([test[:,0]]).T\n",
    "        weights = logistic_regression(y,tx,w_init,50, lambda_)[1]\n",
    "\n",
    "        # calculate the loss for train and test data:\n",
    "        \"\"\"rmse loss\"\"\"\n",
    "        # loss_tr = np.sqrt(2 * compute_mse(train_y, train_x , weights))\n",
    "        # loss_te = np.sqrt(2 * compute_mse(test_y, test_x , weights))\n",
    "        \"\"\"logistic loss\"\"\"\n",
    "        \n",
    "        loss_tr = calculate_loss(train_y, train_x, weights)\n",
    "        loss_te = calculate_loss(test_y, test_x, weights)\n",
    "        \n",
    "        tr.append(loss_tr)\n",
    "        te.append(loss_te)\n",
    "    rmse_tr.append(np.array(tr).mean())\n",
    "    rmse_te.append(np.array(te).mean())\n",
    "cross_validation_visualization(lambdas, rmse_tr, rmse_te)\n",
    "\n"
   ]
  },
  {
   "cell_type": "code",
   "execution_count": null,
   "metadata": {},
   "outputs": [],
   "source": [
    "\n",
    "mse, testW  = least_squares(y,tx)\n",
    "\n",
    "print(testW.shape)\n"
   ]
  },
  {
   "cell_type": "code",
   "execution_count": null,
   "metadata": {},
   "outputs": [],
   "source": [
    "mse, testW = ridge_regression(y,tx,0.005)\n",
    "print(mse)\n",
    "\n",
    "l = testW\n"
   ]
  },
  {
   "cell_type": "code",
   "execution_count": null,
   "metadata": {},
   "outputs": [],
   "source": [
    "\n",
    "\n",
    "l = np.zeros((30,1))\n",
    "\n",
    "test = tx.T @ y\n",
    "\n",
    "\n",
    "mse, testW = gradient_descent(y, tx, l, 500, 0.0000001)\n",
    "print(mse)"
   ]
  },
  {
   "cell_type": "code",
   "execution_count": null,
   "metadata": {},
   "outputs": [],
   "source": [
    "l = np.zeros((30,1))\n",
    "print(y.shape)\n",
    "print(tx.shape)\n",
    "print(l.shape)\n",
    "mse, testW = logistic_regression(y, tx, l, 500, pow(10,-30))\n",
    "print(mse)"
   ]
  },
  {
   "cell_type": "code",
   "execution_count": null,
   "metadata": {},
   "outputs": [],
   "source": [
    "\n",
    "l = np.ones((30,1))*0.5\n",
    "print(y.shape)\n",
    "print(tx.shape)\n",
    "print(l.shape)\n",
    "mse, testW = penalized_logistic_regression(y, meanTX, 0.1, l, 50, 0.000000000001)\n",
    "print(mse)"
   ]
  },
  {
   "cell_type": "code",
   "execution_count": null,
   "metadata": {},
   "outputs": [],
   "source": [
    "\n",
    "\n",
    "print(y)"
   ]
  },
  {
   "cell_type": "code",
   "execution_count": null,
   "metadata": {},
   "outputs": [],
   "source": [
    "\n",
    "yPred = predict_labels(testW, txTest)\n",
    "yPred[np.where(y==0)] = -1\n",
    "print(yPred)\n",
    "create_csv_submission(idsTest, yPred, \"testSub.csv\")"
   ]
  }
 ],
 "metadata": {
  "interpreter": {
   "hash": "2740b07bebd5a9538dcad413d55b5f8f7bc0dae380b851836f69cf85491ff86f"
  },
  "kernelspec": {
   "display_name": "Python 3.9.7 64-bit",
   "name": "python3"
  },
  "language_info": {
   "codemirror_mode": {
    "name": "ipython",
    "version": 3
   },
   "file_extension": ".py",
   "mimetype": "text/x-python",
   "name": "python",
   "nbconvert_exporter": "python",
   "pygments_lexer": "ipython3",
   "version": "3.9.7"
  }
 },
 "nbformat": 4,
 "nbformat_minor": 5
}

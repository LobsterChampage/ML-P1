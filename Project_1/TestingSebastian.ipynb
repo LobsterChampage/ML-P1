{
 "cells": [
  {
   "cell_type": "code",
   "execution_count": 1,
   "id": "8f58977b-bb64-4dbe-bc9c-b06261f2a341",
   "metadata": {},
   "outputs": [],
   "source": [
    "import importlib\n",
    "import numpy as np\n",
    "from proj1_helpers import *\n",
    "from least_squares import *\n",
    "from ridge_regression import *\n",
    "from gradient_descent import *\n",
    "from logistic_regression import *"
   ]
  },
  {
   "cell_type": "code",
   "execution_count": 2,
   "metadata": {},
   "outputs": [],
   "source": [
    "y, tx, ids = load_csv_data('Data/train.csv')\n",
    "y = np.array([y])\n",
    "y = y.T\n",
    "txTest, idsTest = load_csv_Test('Data/test.csv')"
   ]
  },
  {
   "cell_type": "code",
   "execution_count": null,
   "metadata": {},
   "outputs": [],
   "source": [
    "\n",
    "\n",
    "\n"
   ]
  },
  {
   "cell_type": "code",
   "execution_count": 3,
   "metadata": {},
   "outputs": [
    {
     "name": "stdout",
     "output_type": "stream",
     "text": [
      "(30, 1)\n"
     ]
    }
   ],
   "source": [
    "\n",
    "mse, testW  = least_squares(y,tx)\n",
    "\n",
    "print(testW.shape)\n"
   ]
  },
  {
   "cell_type": "code",
   "execution_count": 4,
   "metadata": {},
   "outputs": [
    {
     "name": "stdout",
     "output_type": "stream",
     "text": [
      "0.3398074969310615\n"
     ]
    }
   ],
   "source": [
    "mse, testW = ridge_regression(y,tx,0.005)\n",
    "print(mse)\n",
    "\n",
    "l = testW\n"
   ]
  },
  {
   "cell_type": "code",
   "execution_count": 5,
   "metadata": {},
   "outputs": [
    {
     "name": "stderr",
     "output_type": "stream",
     "text": [
      "c:\\Users\\sebas\\Documents\\GitHub\\ML_EPFL\\Project_1\\gradient_descent.py:10: RuntimeWarning: overflow encountered in matmul\n",
      "  mse  = 1/(2*len(y))*e.T@e\n"
     ]
    },
    {
     "name": "stdout",
     "output_type": "stream",
     "text": [
      "[[nan]]\n"
     ]
    },
    {
     "name": "stderr",
     "output_type": "stream",
     "text": [
      "c:\\Users\\sebas\\Documents\\GitHub\\ML_EPFL\\Project_1\\gradient_descent.py:11: RuntimeWarning: overflow encountered in matmul\n",
      "  gradient = -1/(len(e))*(tx.T @ e)\n",
      "c:\\Users\\sebas\\Documents\\GitHub\\ML_EPFL\\Project_1\\gradient_descent.py:8: RuntimeWarning: invalid value encountered in matmul\n",
      "  e = y -tx @ w\n"
     ]
    }
   ],
   "source": [
    "\n",
    "\n",
    "l = np.zeros((30,1))\n",
    "\n",
    "test = tx.T @ y\n",
    "\n",
    "\n",
    "mse, testW = gradient_descent(y, tx, l, 50, 1)\n",
    "print(mse)"
   ]
  },
  {
   "cell_type": "code",
   "execution_count": 6,
   "metadata": {},
   "outputs": [
    {
     "name": "stderr",
     "output_type": "stream",
     "text": [
      "c:\\Users\\sebas\\Documents\\GitHub\\ML_EPFL\\Project_1\\logistic_regression.py:16: RuntimeWarning: overflow encountered in exp\n",
      "  sig = np.exp(tx @ w)/(1+np.exp(tx @ w))\n",
      "c:\\Users\\sebas\\Documents\\GitHub\\ML_EPFL\\Project_1\\logistic_regression.py:16: RuntimeWarning: invalid value encountered in true_divide\n",
      "  sig = np.exp(tx @ w)/(1+np.exp(tx @ w))\n"
     ]
    },
    {
     "name": "stdout",
     "output_type": "stream",
     "text": [
      "(250000, 1)\n",
      "(250000, 30)\n",
      "(30, 1)\n",
      "[nan]\n"
     ]
    }
   ],
   "source": [
    "l = np.zeros((30,1))\n",
    "print(y.shape)\n",
    "print(tx.shape)\n",
    "print(l.shape)\n",
    "mse, testW = logistic_regression(y, tx, l, 50, 0.01)\n",
    "print(mse)"
   ]
  },
  {
   "cell_type": "code",
   "execution_count": 9,
   "metadata": {},
   "outputs": [
    {
     "name": "stdout",
     "output_type": "stream",
     "text": [
      "(250000, 1)\n",
      "(250000, 30)\n",
      "(30, 1)\n",
      "[[nan]]\n"
     ]
    }
   ],
   "source": [
    "l = np.zeros((30,1))\n",
    "print(y.shape)\n",
    "print(tx.shape)\n",
    "print(l.shape)\n",
    "mse, testW = penalized_logistic_regression(y, tx, 0.1, l, 50, 0.01)\n",
    "print(mse)"
   ]
  },
  {
   "cell_type": "code",
   "execution_count": null,
   "metadata": {},
   "outputs": [],
   "source": []
  },
  {
   "cell_type": "code",
   "execution_count": null,
   "metadata": {},
   "outputs": [
    {
     "name": "stdout",
     "output_type": "stream",
     "text": [
      "[[nan]\n",
      " [nan]\n",
      " [nan]\n",
      " ...\n",
      " [nan]\n",
      " [nan]\n",
      " [nan]]\n"
     ]
    },
    {
     "ename": "ValueError",
     "evalue": "cannot convert float NaN to integer",
     "output_type": "error",
     "traceback": [
      "\u001b[1;31m---------------------------------------------------------------------------\u001b[0m",
      "\u001b[1;31mValueError\u001b[0m                                Traceback (most recent call last)",
      "\u001b[1;32m~\\AppData\\Local\\Temp/ipykernel_23912/3763492958.py\u001b[0m in \u001b[0;36m<module>\u001b[1;34m\u001b[0m\n\u001b[0;32m      1\u001b[0m \u001b[0myPred\u001b[0m \u001b[1;33m=\u001b[0m \u001b[0mpredict_labels\u001b[0m\u001b[1;33m(\u001b[0m\u001b[0mtestW\u001b[0m\u001b[1;33m,\u001b[0m \u001b[0mtxTest\u001b[0m\u001b[1;33m)\u001b[0m\u001b[1;33m\u001b[0m\u001b[1;33m\u001b[0m\u001b[0m\n\u001b[0;32m      2\u001b[0m \u001b[0mprint\u001b[0m\u001b[1;33m(\u001b[0m\u001b[0myPred\u001b[0m\u001b[1;33m)\u001b[0m\u001b[1;33m\u001b[0m\u001b[1;33m\u001b[0m\u001b[0m\n\u001b[1;32m----> 3\u001b[1;33m \u001b[0mcreate_csv_submission\u001b[0m\u001b[1;33m(\u001b[0m\u001b[0midsTest\u001b[0m\u001b[1;33m,\u001b[0m \u001b[0myPred\u001b[0m\u001b[1;33m,\u001b[0m \u001b[1;34m\"testSub.csv\"\u001b[0m\u001b[1;33m)\u001b[0m\u001b[1;33m\u001b[0m\u001b[1;33m\u001b[0m\u001b[0m\n\u001b[0m",
      "\u001b[1;32mc:\\Users\\sebas\\Documents\\GitHub\\ML_EPFL\\Project_1\\proj1_helpers.py\u001b[0m in \u001b[0;36mcreate_csv_submission\u001b[1;34m(ids, y_pred, name)\u001b[0m\n\u001b[0;32m     55\u001b[0m         \u001b[0mwriter\u001b[0m\u001b[1;33m.\u001b[0m\u001b[0mwriteheader\u001b[0m\u001b[1;33m(\u001b[0m\u001b[1;33m)\u001b[0m\u001b[1;33m\u001b[0m\u001b[1;33m\u001b[0m\u001b[0m\n\u001b[0;32m     56\u001b[0m         \u001b[1;32mfor\u001b[0m \u001b[0mr1\u001b[0m\u001b[1;33m,\u001b[0m \u001b[0mr2\u001b[0m \u001b[1;32min\u001b[0m \u001b[0mzip\u001b[0m\u001b[1;33m(\u001b[0m\u001b[0mids\u001b[0m\u001b[1;33m,\u001b[0m \u001b[0my_pred\u001b[0m\u001b[1;33m)\u001b[0m\u001b[1;33m:\u001b[0m\u001b[1;33m\u001b[0m\u001b[1;33m\u001b[0m\u001b[0m\n\u001b[1;32m---> 57\u001b[1;33m             \u001b[0mwriter\u001b[0m\u001b[1;33m.\u001b[0m\u001b[0mwriterow\u001b[0m\u001b[1;33m(\u001b[0m\u001b[1;33m{\u001b[0m\u001b[1;34m'Id'\u001b[0m\u001b[1;33m:\u001b[0m\u001b[0mint\u001b[0m\u001b[1;33m(\u001b[0m\u001b[0mr1\u001b[0m\u001b[1;33m)\u001b[0m\u001b[1;33m,\u001b[0m\u001b[1;34m'Prediction'\u001b[0m\u001b[1;33m:\u001b[0m\u001b[0mint\u001b[0m\u001b[1;33m(\u001b[0m\u001b[0mr2\u001b[0m\u001b[1;33m)\u001b[0m\u001b[1;33m}\u001b[0m\u001b[1;33m)\u001b[0m\u001b[1;33m\u001b[0m\u001b[1;33m\u001b[0m\u001b[0m\n\u001b[0m\u001b[0;32m     58\u001b[0m \u001b[1;33m\u001b[0m\u001b[0m\n\u001b[0;32m     59\u001b[0m \u001b[1;33m\u001b[0m\u001b[0m\n",
      "\u001b[1;31mValueError\u001b[0m: cannot convert float NaN to integer"
     ]
    }
   ],
   "source": [
    "\n",
    "yPred = predict_labels(testW, txTest)\n",
    "print(yPred)\n",
    "create_csv_submission(idsTest, yPred, \"testSub.csv\")"
   ]
  }
 ],
 "metadata": {
  "interpreter": {
   "hash": "2740b07bebd5a9538dcad413d55b5f8f7bc0dae380b851836f69cf85491ff86f"
  },
  "kernelspec": {
   "display_name": "Python 3.9.7 64-bit",
   "name": "python3"
  },
  "language_info": {
   "codemirror_mode": {
    "name": "ipython",
    "version": 3
   },
   "file_extension": ".py",
   "mimetype": "text/x-python",
   "name": "python",
   "nbconvert_exporter": "python",
   "pygments_lexer": "ipython3",
   "version": "3.9.7"
  }
 },
 "nbformat": 4,
 "nbformat_minor": 5
}
